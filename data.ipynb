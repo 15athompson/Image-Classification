{
  "cells": [
    {
      "cell_type": "code",
      "execution_count": 2,
      "metadata": {
        "id": "iZ-j18ho-I4k"
      },
      "outputs": [
        {
          "ename": "ModuleNotFoundError",
          "evalue": "No module named 'tensorflow'",
          "output_type": "error",
          "traceback": [
            "\u001b[1;31m---------------------------------------------------------------------------\u001b[0m",
            "\u001b[1;31mModuleNotFoundError\u001b[0m                       Traceback (most recent call last)",
            "\u001b[1;32mc:\\Users\\aidan_1k98io6\\OneDrive - University of Suffolk\\projects\\NeuralNine\\Machine Learning\\Image Classification\\data.ipynb Cell 1\u001b[0m line \u001b[0;36m4\n\u001b[0;32m      <a href='vscode-notebook-cell:/c%3A/Users/aidan_1k98io6/OneDrive%20-%20University%20of%20Suffolk/projects/NeuralNine/Machine%20Learning/Image%20Classification/data.ipynb#W0sZmlsZQ%3D%3D?line=1'>2</a>\u001b[0m \u001b[39mimport\u001b[39;00m \u001b[39mnumpy\u001b[39;00m \u001b[39mas\u001b[39;00m \u001b[39mnp\u001b[39;00m\n\u001b[0;32m      <a href='vscode-notebook-cell:/c%3A/Users/aidan_1k98io6/OneDrive%20-%20University%20of%20Suffolk/projects/NeuralNine/Machine%20Learning/Image%20Classification/data.ipynb#W0sZmlsZQ%3D%3D?line=2'>3</a>\u001b[0m \u001b[39mimport\u001b[39;00m \u001b[39mmatplotlib\u001b[39;00m\u001b[39m.\u001b[39;00m\u001b[39mpyplot\u001b[39;00m \u001b[39mas\u001b[39;00m \u001b[39mplt\u001b[39;00m\n\u001b[1;32m----> <a href='vscode-notebook-cell:/c%3A/Users/aidan_1k98io6/OneDrive%20-%20University%20of%20Suffolk/projects/NeuralNine/Machine%20Learning/Image%20Classification/data.ipynb#W0sZmlsZQ%3D%3D?line=3'>4</a>\u001b[0m \u001b[39mfrom\u001b[39;00m \u001b[39mtensorflow\u001b[39;00m\u001b[39m.\u001b[39;00m\u001b[39mkeras\u001b[39;00m \u001b[39mimport\u001b[39;00m datasets, layers, models\n",
            "\u001b[1;31mModuleNotFoundError\u001b[0m: No module named 'tensorflow'"
          ]
        }
      ],
      "source": [
        "#source: https://www.youtube.com/watch?v=t0EzVCvQjGE&list=PL7yh-TELLS1G9mmnBN3ZSY8hYgJ5kBOg-&index=3\n",
        "#terms: convolution matrix\n",
        "\n",
        "import cv2 as cv\n",
        "import numpy as np\n",
        "import matplotlib.pyplot as plt\n",
        "from tensorflow.keras import datasets, layers, models\n"
      ]
    },
    {
      "cell_type": "code",
      "execution_count": 3,
      "metadata": {},
      "outputs": [
        {
          "ename": "NameError",
          "evalue": "name 'datasets' is not defined",
          "output_type": "error",
          "traceback": [
            "\u001b[1;31m---------------------------------------------------------------------------\u001b[0m",
            "\u001b[1;31mNameError\u001b[0m                                 Traceback (most recent call last)",
            "\u001b[1;32mc:\\Users\\aidan_1k98io6\\OneDrive - University of Suffolk\\projects\\NeuralNine\\Machine Learning\\Image Classification\\data.ipynb Cell 2\u001b[0m line \u001b[0;36m1\n\u001b[1;32m----> <a href='vscode-notebook-cell:/c%3A/Users/aidan_1k98io6/OneDrive%20-%20University%20of%20Suffolk/projects/NeuralNine/Machine%20Learning/Image%20Classification/data.ipynb#W1sZmlsZQ%3D%3D?line=0'>1</a>\u001b[0m (training_images, training_labels), (testing_images, testing_labels) \u001b[39m=\u001b[39m datasets\u001b[39m.\u001b[39mcifar10\u001b[39m.\u001b[39mload_data()\n\u001b[0;32m      <a href='vscode-notebook-cell:/c%3A/Users/aidan_1k98io6/OneDrive%20-%20University%20of%20Suffolk/projects/NeuralNine/Machine%20Learning/Image%20Classification/data.ipynb#W1sZmlsZQ%3D%3D?line=1'>2</a>\u001b[0m training_images, testing_images \u001b[39m=\u001b[39m training_images \u001b[39m/\u001b[39m \u001b[39m255\u001b[39m, testing_images \u001b[39m/\u001b[39m \u001b[39m255\u001b[39m\n\u001b[0;32m      <a href='vscode-notebook-cell:/c%3A/Users/aidan_1k98io6/OneDrive%20-%20University%20of%20Suffolk/projects/NeuralNine/Machine%20Learning/Image%20Classification/data.ipynb#W1sZmlsZQ%3D%3D?line=3'>4</a>\u001b[0m class_names \u001b[39m=\u001b[39m [\u001b[39m'\u001b[39m\u001b[39mPlane\u001b[39m\u001b[39m'\u001b[39m, \u001b[39m'\u001b[39m\u001b[39mCar\u001b[39m\u001b[39m'\u001b[39m, \u001b[39m'\u001b[39m\u001b[39mBird\u001b[39m\u001b[39m'\u001b[39m, \u001b[39m'\u001b[39m\u001b[39mCat\u001b[39m\u001b[39m'\u001b[39m, \u001b[39m'\u001b[39m\u001b[39mDeer\u001b[39m\u001b[39m'\u001b[39m, \u001b[39m'\u001b[39m\u001b[39mDog\u001b[39m\u001b[39m'\u001b[39m, \u001b[39m'\u001b[39m\u001b[39mFrog\u001b[39m\u001b[39m'\u001b[39m, \u001b[39m'\u001b[39m\u001b[39mHorse\u001b[39m\u001b[39m'\u001b[39m, \u001b[39m'\u001b[39m\u001b[39mShip\u001b[39m\u001b[39m'\u001b[39m, \u001b[39m'\u001b[39m\u001b[39mTruck\u001b[39m\u001b[39m'\u001b[39m]\n",
            "\u001b[1;31mNameError\u001b[0m: name 'datasets' is not defined"
          ]
        }
      ],
      "source": [
        "(training_images, training_labels), (testing_images, testing_labels) = datasets.cifar10.load_data()\n",
        "training_images, testing_images = training_images / 255, testing_images / 255\n",
        "\n",
        "class_names = ['Plane', 'Car', 'Bird', 'Cat', 'Deer', 'Dog', 'Frog', 'Horse', 'Ship', 'Truck']\n"
      ]
    },
    {
      "cell_type": "code",
      "execution_count": 4,
      "metadata": {},
      "outputs": [
        {
          "ename": "NameError",
          "evalue": "name 'training_images' is not defined",
          "output_type": "error",
          "traceback": [
            "\u001b[1;31m---------------------------------------------------------------------------\u001b[0m",
            "\u001b[1;31mNameError\u001b[0m                                 Traceback (most recent call last)",
            "\u001b[1;32mc:\\Users\\aidan_1k98io6\\OneDrive - University of Suffolk\\projects\\NeuralNine\\Machine Learning\\Image Classification\\data.ipynb Cell 3\u001b[0m line \u001b[0;36m5\n\u001b[0;32m      <a href='vscode-notebook-cell:/c%3A/Users/aidan_1k98io6/OneDrive%20-%20University%20of%20Suffolk/projects/NeuralNine/Machine%20Learning/Image%20Classification/data.ipynb#W2sZmlsZQ%3D%3D?line=2'>3</a>\u001b[0m plt\u001b[39m.\u001b[39mxticks([])\n\u001b[0;32m      <a href='vscode-notebook-cell:/c%3A/Users/aidan_1k98io6/OneDrive%20-%20University%20of%20Suffolk/projects/NeuralNine/Machine%20Learning/Image%20Classification/data.ipynb#W2sZmlsZQ%3D%3D?line=3'>4</a>\u001b[0m plt\u001b[39m.\u001b[39myticks([])\n\u001b[1;32m----> <a href='vscode-notebook-cell:/c%3A/Users/aidan_1k98io6/OneDrive%20-%20University%20of%20Suffolk/projects/NeuralNine/Machine%20Learning/Image%20Classification/data.ipynb#W2sZmlsZQ%3D%3D?line=4'>5</a>\u001b[0m plt\u001b[39m.\u001b[39mimshow(training_images[i], cmap\u001b[39m=\u001b[39mplt\u001b[39m.\u001b[39mcm\u001b[39m.\u001b[39mbinary)\n\u001b[0;32m      <a href='vscode-notebook-cell:/c%3A/Users/aidan_1k98io6/OneDrive%20-%20University%20of%20Suffolk/projects/NeuralNine/Machine%20Learning/Image%20Classification/data.ipynb#W2sZmlsZQ%3D%3D?line=5'>6</a>\u001b[0m plt\u001b[39m.\u001b[39mxlabel(class_names[training_labels[i][\u001b[39m0\u001b[39m]])\n",
            "\u001b[1;31mNameError\u001b[0m: name 'training_images' is not defined"
          ]
        },
        {
          "data": {
            "image/png": "[encoded data removed]",
            "text/plain": [
              "<Figure size 640x480 with 1 Axes>"
            ]
          },
          "metadata": {},
          "output_type": "display_data"
        }
      ],
      "source": [
        "for i in range(16):\n",
        "    plt.subplot(4, 4, i + 1)\n",
        "    plt.xticks([])\n",
        "    plt.yticks([])\n",
        "    plt.imshow(training_images[i], cmap=plt.cm.binary)\n",
        "    plt.xlabel(class_names[training_labels[i][0]])"
      ]
    },
    {
      "cell_type": "code",
      "execution_count": 5,
      "metadata": {},
      "outputs": [],
      "source": [
        "plt.show()"
      ]
    },
    {
      "cell_type": "code",
      "execution_count": 6,
      "metadata": {},
      "outputs": [
        {
          "ename": "NameError",
          "evalue": "name 'training_images' is not defined",
          "output_type": "error",
          "traceback": [
            "\u001b[1;31m---------------------------------------------------------------------------\u001b[0m",
            "\u001b[1;31mNameError\u001b[0m                                 Traceback (most recent call last)",
            "\u001b[1;32mc:\\Users\\aidan_1k98io6\\OneDrive - University of Suffolk\\projects\\NeuralNine\\Machine Learning\\Image Classification\\data.ipynb Cell 5\u001b[0m line \u001b[0;36m1\n\u001b[1;32m----> <a href='vscode-notebook-cell:/c%3A/Users/aidan_1k98io6/OneDrive%20-%20University%20of%20Suffolk/projects/NeuralNine/Machine%20Learning/Image%20Classification/data.ipynb#W4sZmlsZQ%3D%3D?line=0'>1</a>\u001b[0m training_images \u001b[39m=\u001b[39m training_images[:\u001b[39m20000\u001b[39m]\n\u001b[0;32m      <a href='vscode-notebook-cell:/c%3A/Users/aidan_1k98io6/OneDrive%20-%20University%20of%20Suffolk/projects/NeuralNine/Machine%20Learning/Image%20Classification/data.ipynb#W4sZmlsZQ%3D%3D?line=1'>2</a>\u001b[0m training_labels \u001b[39m=\u001b[39m training_labels[:\u001b[39m20000\u001b[39m]\n\u001b[0;32m      <a href='vscode-notebook-cell:/c%3A/Users/aidan_1k98io6/OneDrive%20-%20University%20of%20Suffolk/projects/NeuralNine/Machine%20Learning/Image%20Classification/data.ipynb#W4sZmlsZQ%3D%3D?line=2'>3</a>\u001b[0m testing_images \u001b[39m=\u001b[39m testing_images[:\u001b[39m4000\u001b[39m]\n",
            "\u001b[1;31mNameError\u001b[0m: name 'training_images' is not defined"
          ]
        }
      ],
      "source": [
        "training_images = training_images[:20000]\n",
        "training_labels = training_labels[:20000]\n",
        "testing_images = testing_images[:4000]\n",
        "testing_labels = testing_labels[:4000]"
      ]
    },
    {
      "cell_type": "code",
      "execution_count": 7,
      "metadata": {},
      "outputs": [
        {
          "ename": "NameError",
          "evalue": "name 'models' is not defined",
          "output_type": "error",
          "traceback": [
            "\u001b[1;31m---------------------------------------------------------------------------\u001b[0m",
            "\u001b[1;31mNameError\u001b[0m                                 Traceback (most recent call last)",
            "\u001b[1;32mc:\\Users\\aidan_1k98io6\\OneDrive - University of Suffolk\\projects\\NeuralNine\\Machine Learning\\Image Classification\\data.ipynb Cell 6\u001b[0m line \u001b[0;36m1\n\u001b[1;32m----> <a href='vscode-notebook-cell:/c%3A/Users/aidan_1k98io6/OneDrive%20-%20University%20of%20Suffolk/projects/NeuralNine/Machine%20Learning/Image%20Classification/data.ipynb#W5sZmlsZQ%3D%3D?line=0'>1</a>\u001b[0m model \u001b[39m=\u001b[39m models\u001b[39m.\u001b[39mSequential()\n\u001b[0;32m      <a href='vscode-notebook-cell:/c%3A/Users/aidan_1k98io6/OneDrive%20-%20University%20of%20Suffolk/projects/NeuralNine/Machine%20Learning/Image%20Classification/data.ipynb#W5sZmlsZQ%3D%3D?line=1'>2</a>\u001b[0m model\u001b[39m.\u001b[39madd(layers\u001b[39m.\u001b[39mConv2D(\u001b[39m32\u001b[39m, (\u001b[39m3\u001b[39m, \u001b[39m3\u001b[39m), activation\u001b[39m=\u001b[39m\u001b[39m'\u001b[39m\u001b[39mrelu\u001b[39m\u001b[39m'\u001b[39m, input_shape\u001b[39m=\u001b[39m(\u001b[39m32\u001b[39m, \u001b[39m32\u001b[39m, \u001b[39m3\u001b[39m))) \u001b[39m# 32 filters, 3x3 kernel\u001b[39;00m\n\u001b[0;32m      <a href='vscode-notebook-cell:/c%3A/Users/aidan_1k98io6/OneDrive%20-%20University%20of%20Suffolk/projects/NeuralNine/Machine%20Learning/Image%20Classification/data.ipynb#W5sZmlsZQ%3D%3D?line=2'>3</a>\u001b[0m model\u001b[39m.\u001b[39madd(layers\u001b[39m.\u001b[39mMaxPooling2D((\u001b[39m2\u001b[39m, \u001b[39m2\u001b[39m))) \u001b[39m# 2x2 pooling\u001b[39;00m\n",
            "\u001b[1;31mNameError\u001b[0m: name 'models' is not defined"
          ]
        }
      ],
      "source": [
        "model = models.Sequential()\n",
        "model.add(layers.Conv2D(32, (3, 3), activation='relu', input_shape=(32, 32, 3))) # 32 filters, 3x3 kernel\n",
        "model.add(layers.MaxPooling2D((2, 2))) # 2x2 pooling\n",
        "model.add(layers.Conv2D(64, (3, 3), activation='relu')) # 64 filters, 3x3 kernel\n",
        "model.add(layers.MaxPooling2D((2, 2))) # 2x2 pooling\n",
        "model.add(layers.Conv2D(64, (3, 3), activation='relu')) # 64 filters, 3x3 kernel\n",
        "model.add(layers.Flatten())\n",
        "model.add(layers.Dense(64, activation='relu'))\n",
        "model.add(layers.Dense(10, activation='softmax'))"
      ]
    },
    {
      "cell_type": "code",
      "execution_count": 8,
      "metadata": {},
      "outputs": [
        {
          "ename": "NameError",
          "evalue": "name 'model' is not defined",
          "output_type": "error",
          "traceback": [
            "\u001b[1;31m---------------------------------------------------------------------------\u001b[0m",
            "\u001b[1;31mNameError\u001b[0m                                 Traceback (most recent call last)",
            "\u001b[1;32mc:\\Users\\aidan_1k98io6\\OneDrive - University of Suffolk\\projects\\NeuralNine\\Machine Learning\\Image Classification\\data.ipynb Cell 7\u001b[0m line \u001b[0;36m1\n\u001b[1;32m----> <a href='vscode-notebook-cell:/c%3A/Users/aidan_1k98io6/OneDrive%20-%20University%20of%20Suffolk/projects/NeuralNine/Machine%20Learning/Image%20Classification/data.ipynb#W6sZmlsZQ%3D%3D?line=0'>1</a>\u001b[0m model\u001b[39m.\u001b[39mcompile(optimizer\u001b[39m=\u001b[39m\u001b[39m'\u001b[39m\u001b[39madam\u001b[39m\u001b[39m'\u001b[39m, loss\u001b[39m=\u001b[39m\u001b[39m'\u001b[39m\u001b[39msparse_categorical_crossentropy\u001b[39m\u001b[39m'\u001b[39m, metrics\u001b[39m=\u001b[39m[\u001b[39m'\u001b[39m\u001b[39maccuracy\u001b[39m\u001b[39m'\u001b[39m])\n\u001b[0;32m      <a href='vscode-notebook-cell:/c%3A/Users/aidan_1k98io6/OneDrive%20-%20University%20of%20Suffolk/projects/NeuralNine/Machine%20Learning/Image%20Classification/data.ipynb#W6sZmlsZQ%3D%3D?line=2'>3</a>\u001b[0m model\u001b[39m.\u001b[39mfit(training_images, training_labels, epochs\u001b[39m=\u001b[39m\u001b[39m10\u001b[39m, validation_data\u001b[39m=\u001b[39m(testing_images, testing_labels))\n",
            "\u001b[1;31mNameError\u001b[0m: name 'model' is not defined"
          ]
        }
      ],
      "source": [
        "model.compile(optimizer='adam', loss='sparse_categorical_crossentropy', metrics=['accuracy'])\n",
        "\n",
        "model.fit(training_images, training_labels, epochs=10, validation_data=(testing_images, testing_labels))"
      ]
    },
    {
      "cell_type": "code",
      "execution_count": 9,
      "metadata": {},
      "outputs": [
        {
          "ename": "NameError",
          "evalue": "name 'model' is not defined",
          "output_type": "error",
          "traceback": [
            "\u001b[1;31m---------------------------------------------------------------------------\u001b[0m",
            "\u001b[1;31mNameError\u001b[0m                                 Traceback (most recent call last)",
            "\u001b[1;32mc:\\Users\\aidan_1k98io6\\OneDrive - University of Suffolk\\projects\\NeuralNine\\Machine Learning\\Image Classification\\data.ipynb Cell 8\u001b[0m line \u001b[0;36m1\n\u001b[1;32m----> <a href='vscode-notebook-cell:/c%3A/Users/aidan_1k98io6/OneDrive%20-%20University%20of%20Suffolk/projects/NeuralNine/Machine%20Learning/Image%20Classification/data.ipynb#X10sZmlsZQ%3D%3D?line=0'>1</a>\u001b[0m loss, accuracy \u001b[39m=\u001b[39m model\u001b[39m.\u001b[39mevaluate(testing_images, testing_labels)\n\u001b[0;32m      <a href='vscode-notebook-cell:/c%3A/Users/aidan_1k98io6/OneDrive%20-%20University%20of%20Suffolk/projects/NeuralNine/Machine%20Learning/Image%20Classification/data.ipynb#X10sZmlsZQ%3D%3D?line=1'>2</a>\u001b[0m \u001b[39mprint\u001b[39m(\u001b[39mf\u001b[39m\u001b[39m'\u001b[39m\u001b[39mLoss: \u001b[39m\u001b[39m{\u001b[39;00mloss\u001b[39m}\u001b[39;00m\u001b[39m'\u001b[39m)\n\u001b[0;32m      <a href='vscode-notebook-cell:/c%3A/Users/aidan_1k98io6/OneDrive%20-%20University%20of%20Suffolk/projects/NeuralNine/Machine%20Learning/Image%20Classification/data.ipynb#X10sZmlsZQ%3D%3D?line=2'>3</a>\u001b[0m \u001b[39mprint\u001b[39m(\u001b[39mf\u001b[39m\u001b[39m'\u001b[39m\u001b[39mAccuracy: \u001b[39m\u001b[39m{\u001b[39;00maccuracy\u001b[39m}\u001b[39;00m\u001b[39m'\u001b[39m)\n",
            "\u001b[1;31mNameError\u001b[0m: name 'model' is not defined"
          ]
        }
      ],
      "source": [
        "loss, accuracy = model.evaluate(testing_images, testing_labels)\n",
        "print(f'Loss: {loss}')\n",
        "print(f'Accuracy: {accuracy}')\n",
        "\n",
        "model.save('image_classifier.model')"
      ]
    },
    {
      "cell_type": "code",
      "execution_count": 1,
      "metadata": {},
      "outputs": [
        {
          "ename": "NameError",
          "evalue": "name 'models' is not defined",
          "output_type": "error",
          "traceback": [
            "\u001b[1;31m---------------------------------------------------------------------------\u001b[0m",
            "\u001b[1;31mNameError\u001b[0m                                 Traceback (most recent call last)",
            "\u001b[1;32mc:\\Users\\aidan_1k98io6\\OneDrive - University of Suffolk\\projects\\NeuralNine\\Machine Learning\\Image Classification\\data.ipynb Cell 9\u001b[0m line \u001b[0;36m1\n\u001b[1;32m----> <a href='vscode-notebook-cell:/c%3A/Users/aidan_1k98io6/OneDrive%20-%20University%20of%20Suffolk/projects/NeuralNine/Machine%20Learning/Image%20Classification/data.ipynb#X11sZmlsZQ%3D%3D?line=0'>1</a>\u001b[0m model \u001b[39m=\u001b[39m models\u001b[39m.\u001b[39mload_model(\u001b[39m'\u001b[39m\u001b[39mimage_classifier.model\u001b[39m\u001b[39m'\u001b[39m)\n",
            "\u001b[1;31mNameError\u001b[0m: name 'models' is not defined"
          ]
        }
      ],
      "source": [
        "model = models.load_model('image_classifier.model')"
      ]
    },
    {
      "cell_type": "code",
      "execution_count": 6,
      "metadata": {},
      "outputs": [
        {
          "ename": "NameError",
          "evalue": "name 'cv' is not defined",
          "output_type": "error",
          "traceback": [
            "\u001b[1;31m---------------------------------------------------------------------------\u001b[0m",
            "\u001b[1;31mNameError\u001b[0m                                 Traceback (most recent call last)",
            "\u001b[1;32mc:\\Users\\aidan_1k98io6\\OneDrive - University of Suffolk\\projects\\NeuralNine\\Machine Learning\\Image Classification\\data.ipynb Cell 10\u001b[0m line \u001b[0;36m1\n\u001b[1;32m----> <a href='vscode-notebook-cell:/c%3A/Users/aidan_1k98io6/OneDrive%20-%20University%20of%20Suffolk/projects/NeuralNine/Machine%20Learning/Image%20Classification/data.ipynb#X12sZmlsZQ%3D%3D?line=0'>1</a>\u001b[0m img \u001b[39m=\u001b[39m cv\u001b[39m.\u001b[39mimread(\u001b[39m'\u001b[39m\u001b[39mhorse.jpg\u001b[39m\u001b[39m'\u001b[39m)\n\u001b[0;32m      <a href='vscode-notebook-cell:/c%3A/Users/aidan_1k98io6/OneDrive%20-%20University%20of%20Suffolk/projects/NeuralNine/Machine%20Learning/Image%20Classification/data.ipynb#X12sZmlsZQ%3D%3D?line=1'>2</a>\u001b[0m img \u001b[39m=\u001b[39m cvtColor(img, COLOR_BGR2RGB)\n\u001b[0;32m      <a href='vscode-notebook-cell:/c%3A/Users/aidan_1k98io6/OneDrive%20-%20University%20of%20Suffolk/projects/NeuralNine/Machine%20Learning/Image%20Classification/data.ipynb#X12sZmlsZQ%3D%3D?line=3'>4</a>\u001b[0m plt\u001b[39m.\u001b[39mimshow(img, cmap\u001b[39m=\u001b[39mplt\u001b[39m.\u001b[39mcm\u001b[39m.\u001b[39mbinary)\n",
            "\u001b[1;31mNameError\u001b[0m: name 'cv' is not defined"
          ]
        }
      ],
      "source": [
        "img = cv.imread('horse.jpg')\n",
        "img = cvtColor(img, COLOR_BGR2RGB)\n",
        "\n",
        "plt.imshow(img, cmap=plt.cm.binary)\n",
        "\n",
        "\n",
        "prediction = model.predict(np.array[img] / 255)"
      ]
    },
    {
      "cell_type": "code",
      "execution_count": 5,
      "metadata": {},
      "outputs": [
        {
          "ename": "NameError",
          "evalue": "name 'model' is not defined",
          "output_type": "error",
          "traceback": [
            "\u001b[1;31m---------------------------------------------------------------------------\u001b[0m",
            "\u001b[1;31mNameError\u001b[0m                                 Traceback (most recent call last)",
            "\u001b[1;32mc:\\Users\\aidan_1k98io6\\OneDrive - University of Suffolk\\projects\\NeuralNine\\Machine Learning\\Image Classification\\data.ipynb Cell 11\u001b[0m line \u001b[0;36m1\n\u001b[1;32m----> <a href='vscode-notebook-cell:/c%3A/Users/aidan_1k98io6/OneDrive%20-%20University%20of%20Suffolk/projects/NeuralNine/Machine%20Learning/Image%20Classification/data.ipynb#X13sZmlsZQ%3D%3D?line=0'>1</a>\u001b[0m prediction \u001b[39m=\u001b[39m model\u001b[39m.\u001b[39mpredict(np\u001b[39m.\u001b[39marray[img] \u001b[39m/\u001b[39m \u001b[39m255\u001b[39m)\n\u001b[0;32m      <a href='vscode-notebook-cell:/c%3A/Users/aidan_1k98io6/OneDrive%20-%20University%20of%20Suffolk/projects/NeuralNine/Machine%20Learning/Image%20Classification/data.ipynb#X13sZmlsZQ%3D%3D?line=1'>2</a>\u001b[0m index \u001b[39m=\u001b[39m np\u001b[39m.\u001b[39margmax(prediction)\n\u001b[0;32m      <a href='vscode-notebook-cell:/c%3A/Users/aidan_1k98io6/OneDrive%20-%20University%20of%20Suffolk/projects/NeuralNine/Machine%20Learning/Image%20Classification/data.ipynb#X13sZmlsZQ%3D%3D?line=2'>3</a>\u001b[0m \u001b[39mprint\u001b[39m(\u001b[39mf\u001b[39m\u001b[39m'\u001b[39m\u001b[39mPrediction: \u001b[39m\u001b[39m{\u001b[39;00mclass_names[index]\u001b[39m}\u001b[39;00m\u001b[39m'\u001b[39m)\n",
            "\u001b[1;31mNameError\u001b[0m: name 'model' is not defined"
          ]
        }
      ],
      "source": [
        "prediction = model.predict(np.array[img] / 255)\n",
        "index = np.argmax(prediction)\n",
        "print(f'Prediction: {class_names[index]}')"
      ]
    },
    {
      "cell_type": "code",
      "execution_count": 7,
      "metadata": {},
      "outputs": [
        {
          "ename": "NameError",
          "evalue": "name 'plt' is not defined",
          "output_type": "error",
          "traceback": [
            "\u001b[1;31m---------------------------------------------------------------------------\u001b[0m",
            "\u001b[1;31mNameError\u001b[0m                                 Traceback (most recent call last)",
            "\u001b[1;32mc:\\Users\\aidan_1k98io6\\OneDrive - University of Suffolk\\projects\\NeuralNine\\Machine Learning\\Image Classification\\data.ipynb Cell 12\u001b[0m line \u001b[0;36m1\n\u001b[1;32m----> <a href='vscode-notebook-cell:/c%3A/Users/aidan_1k98io6/OneDrive%20-%20University%20of%20Suffolk/projects/NeuralNine/Machine%20Learning/Image%20Classification/data.ipynb#X14sZmlsZQ%3D%3D?line=0'>1</a>\u001b[0m plt\u001b[39m.\u001b[39mshow()\n",
            "\u001b[1;31mNameError\u001b[0m: name 'plt' is not defined"
          ]
        }
      ],
      "source": [
        "plt.show()"
      ]
    },
    {
      "cell_type": "code",
      "execution_count": null,
      "metadata": {},
      "outputs": [],
      "source": []
    }
  ],
  "metadata": {
    "colab": {
      "provenance": []
    },
    "kernelspec": {
      "display_name": "Python 3",
      "name": "python3"
    },
    "language_info": {
      "codemirror_mode": {
        "name": "ipython",
        "version": 3
      },
      "file_extension": ".py",
      "mimetype": "text/x-python",
      "name": "python",
      "nbconvert_exporter": "python",
      "pygments_lexer": "ipython3",
      "version": "3.11.0"
    }
  },
  "nbformat": 4,
  "nbformat_minor": 0
}
